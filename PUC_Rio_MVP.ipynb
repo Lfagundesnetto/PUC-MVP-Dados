{
  "nbformat": 4,
  "nbformat_minor": 0,
  "metadata": {
    "colab": {
      "provenance": [],
      "authorship_tag": "ABX9TyMWzInv2L5HCt7ICGCCcxPb",
      "include_colab_link": true
    },
    "kernelspec": {
      "name": "python3",
      "display_name": "Python 3"
    },
    "language_info": {
      "name": "python"
    }
  },
  "cells": [
    {
      "cell_type": "markdown",
      "metadata": {
        "id": "view-in-github",
        "colab_type": "text"
      },
      "source": [
        "<a href=\"https://colab.research.google.com/github/Lfagundesnetto/PUC-MVP-Dados/blob/main/PUC_Rio_MVP.ipynb\" target=\"_parent\"><img src=\"https://colab.research.google.com/assets/colab-badge.svg\" alt=\"Open In Colab\"/></a>"
      ]
    },
    {
      "cell_type": "markdown",
      "source": [
        "# **MVP Sprint 3: Engenharia de Dados - PUC RIO**\n",
        "\n",
        "\n",
        "---\n",
        "\n",
        "## Leticia Fagundes Netto"
      ],
      "metadata": {
        "id": "nGgAjnGm3OgB"
      }
    },
    {
      "cell_type": "markdown",
      "source": [
        "Este projeto implementa a base de dados de uma loja de sapatos online. A base de dados gerencia informações sobre os produtos (sapatos), usuários, pedidos e outras entidades relevantes. A loja oferece uma variedade de sapatos categorizados por tipo, cor, material, tamanho e gênero."
      ],
      "metadata": {
        "id": "jkIVgNOb3qD_"
      }
    },
    {
      "cell_type": "code",
      "execution_count": null,
      "metadata": {
        "id": "5jaQUTpEzOiH"
      },
      "outputs": [],
      "source": []
    }
  ]
}