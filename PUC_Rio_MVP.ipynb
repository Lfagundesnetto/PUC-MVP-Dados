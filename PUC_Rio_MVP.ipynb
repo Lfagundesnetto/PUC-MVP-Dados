{
  "nbformat": 4,
  "nbformat_minor": 0,
  "metadata": {
    "colab": {
      "provenance": [],
      "authorship_tag": "ABX9TyOvAnw0UMJhx5zYMczGZ0io",
      "include_colab_link": true
    },
    "kernelspec": {
      "name": "python3",
      "display_name": "Python 3"
    },
    "language_info": {
      "name": "python"
    }
  },
  "cells": [
    {
      "cell_type": "markdown",
      "metadata": {
        "id": "view-in-github",
        "colab_type": "text"
      },
      "source": [
        "<a href=\"https://colab.research.google.com/github/Lfagundesnetto/PUC-MVP-Dados/blob/main/PUC_Rio_MVP.ipynb\" target=\"_parent\"><img src=\"https://colab.research.google.com/assets/colab-badge.svg\" alt=\"Open In Colab\"/></a>"
      ]
    },
    {
      "cell_type": "markdown",
      "source": [
        "# **MVP Sprint 3: Engenharia de Dados - PUC RIO**\n",
        "\n",
        "\n",
        "---\n",
        "\n",
        "## Leticia Fagundes Netto"
      ],
      "metadata": {
        "id": "nGgAjnGm3OgB"
      }
    },
    {
      "cell_type": "markdown",
      "source": [
        "O projeto consiste em entender os perfis e comportamento dos compradores de tênis do nosso site, a partir das datas de compras, numeração, quantidade de itens. Para potencializar as vendas com a estratégia a partir dos dados de compra."
      ],
      "metadata": {
        "id": "jkIVgNOb3qD_"
      }
    },
    {
      "cell_type": "markdown",
      "source": [
        "Este banco de dados foi projetado para gerenciar e analisar os dados de uma empresa online que vende sapatos. Ele contém diversas tabelas que armazenam informações sobre os produtos, usuários, pedidos e características dos sapatos. A seguir, uma explicação detalhada de cada tabela e seu propósito:"
      ],
      "metadata": {
        "id": "PNUB_3FD5PX1"
      }
    },
    {
      "cell_type": "markdown",
      "source": [
        "### **Tabela de Produtos**\n",
        "\n",
        "---\n",
        "\n"
      ],
      "metadata": {
        "id": "bG_Hh7S841A3"
      }
    },
    {
      "cell_type": "markdown",
      "source": [
        "**Tipos (Tipos de Sapatos):**\n",
        "Descrição: Armazena os diferentes tipos de sapatos disponíveis, como \"Anabela\", \"Bota\", \"Chinelo\", etc.\n",
        "\n",
        "**Categorias (Categorias dos Sapatos):**\n",
        "Descrição: Contém as categorias dos sapatos, como \"Casual\", \"Conforto\", \"Esportivo\", etc.\n",
        "\n",
        "**Materiais (Materiais dos Sapatos):**\n",
        "Descrição: Armazena os diferentes materiais usados nos sapatos, como \"Couro\", \"Camurça\", \"Sintético\", etc.\n",
        "\n",
        "**Cor (Cores dos Sapatos):**\n",
        "Descrição: Contém as cores disponíveis para os sapatos, como \"Azul\", \"Preto\", \"Branco\", etc.\n",
        "\n",
        "**Genero (Gênero dos Sapatos):**\n",
        "Descrição: Armazena as informações sobre o gênero dos sapatos, como \"Feminino\", \"Masculino\", \"Unissex\".\n",
        "\n",
        "**Tamanho (Tamanhos dos Sapatos):**\n",
        "Descrição: Contém os tamanhos disponíveis para os sapatos, como \"35\", \"36\", \"37\", etc.\n",
        "\n",
        "**Preços (Preços dos Sapatos):**\n",
        "Descrição: Contém os sapatos com seus preços base e final, ajustados com base no tipo de material."
      ],
      "metadata": {
        "id": "ZkCKxj7J5X7J"
      }
    },
    {
      "cell_type": "code",
      "execution_count": null,
      "metadata": {
        "id": "5jaQUTpEzOiH"
      },
      "outputs": [],
      "source": []
    }
  ]
}